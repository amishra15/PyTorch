{
 "cells": [
  {
   "cell_type": "markdown",
   "id": "771e05ba",
   "metadata": {},
   "source": [
    "## Intializing a tensor"
   ]
  },
  {
   "cell_type": "code",
   "execution_count": 3,
   "id": "3ad9c5e0",
   "metadata": {},
   "outputs": [],
   "source": [
    "import torch"
   ]
  },
  {
   "cell_type": "code",
   "execution_count": 4,
   "id": "7470f6e6",
   "metadata": {},
   "outputs": [],
   "source": [
    "my_tensor = torch.tensor([[1,2,3], [4,5,6]], dtype = torch.float32, requires_grad=True)"
   ]
  },
  {
   "cell_type": "code",
   "execution_count": 5,
   "id": "aac80c1d",
   "metadata": {},
   "outputs": [
    {
     "data": {
      "text/plain": [
       "tensor([[1., 2., 3.],\n",
       "        [4., 5., 6.]], requires_grad=True)"
      ]
     },
     "execution_count": 5,
     "metadata": {},
     "output_type": "execute_result"
    }
   ],
   "source": [
    "my_tensor"
   ]
  },
  {
   "cell_type": "code",
   "execution_count": 6,
   "id": "30d69109",
   "metadata": {},
   "outputs": [
    {
     "data": {
      "text/plain": [
       "tensor([[1., 2., 3.],\n",
       "        [4., 5., 6.]], requires_grad=True)"
      ]
     },
     "execution_count": 6,
     "metadata": {},
     "output_type": "execute_result"
    }
   ],
   "source": [
    "my_tensor"
   ]
  },
  {
   "cell_type": "code",
   "execution_count": 8,
   "id": "43d0d995",
   "metadata": {},
   "outputs": [
    {
     "data": {
      "text/plain": [
       "torch.float32"
      ]
     },
     "execution_count": 8,
     "metadata": {},
     "output_type": "execute_result"
    }
   ],
   "source": [
    "my_tensor.dtype"
   ]
  },
  {
   "cell_type": "code",
   "execution_count": 10,
   "id": "1950f8a5",
   "metadata": {},
   "outputs": [
    {
     "data": {
      "text/plain": [
       "torch.Size([2, 3])"
      ]
     },
     "execution_count": 10,
     "metadata": {},
     "output_type": "execute_result"
    }
   ],
   "source": [
    "my_tensor.shape"
   ]
  },
  {
   "cell_type": "code",
   "execution_count": 11,
   "id": "fc202fa5",
   "metadata": {},
   "outputs": [
    {
     "data": {
      "text/plain": [
       "device(type='cpu')"
      ]
     },
     "execution_count": 11,
     "metadata": {},
     "output_type": "execute_result"
    }
   ],
   "source": [
    "my_tensor.device"
   ]
  },
  {
   "cell_type": "code",
   "execution_count": 12,
   "id": "0b0bf5d3",
   "metadata": {},
   "outputs": [
    {
     "data": {
      "text/plain": [
       "True"
      ]
     },
     "execution_count": 12,
     "metadata": {},
     "output_type": "execute_result"
    }
   ],
   "source": [
    "my_tensor.requires_grad"
   ]
  },
  {
   "cell_type": "markdown",
   "id": "423380a7",
   "metadata": {},
   "source": [
    "### Other common initialization methods"
   ]
  },
  {
   "cell_type": "code",
   "execution_count": 15,
   "id": "39b3565c",
   "metadata": {},
   "outputs": [
    {
     "data": {
      "text/plain": [
       "tensor([[0., 0., 0.],\n",
       "        [0., 0., 0.],\n",
       "        [0., 0., 0.]])"
      ]
     },
     "execution_count": 15,
     "metadata": {},
     "output_type": "execute_result"
    }
   ],
   "source": [
    "x = torch.empty(size = (3, 3))\n",
    "x"
   ]
  },
  {
   "cell_type": "code",
   "execution_count": 16,
   "id": "fcf3a7e4",
   "metadata": {},
   "outputs": [
    {
     "data": {
      "text/plain": [
       "tensor([[0., 0., 0.],\n",
       "        [0., 0., 0.],\n",
       "        [0., 0., 0.]])"
      ]
     },
     "execution_count": 16,
     "metadata": {},
     "output_type": "execute_result"
    }
   ],
   "source": [
    "x = torch.zeros((3, 3))\n",
    "x"
   ]
  },
  {
   "cell_type": "code",
   "execution_count": 17,
   "id": "ecf0f0a0",
   "metadata": {},
   "outputs": [
    {
     "data": {
      "text/plain": [
       "tensor([[0.1560, 0.6804, 0.0248],\n",
       "        [0.1621, 0.2328, 0.3713],\n",
       "        [0.1312, 0.8602, 0.3921]])"
      ]
     },
     "execution_count": 17,
     "metadata": {},
     "output_type": "execute_result"
    }
   ],
   "source": [
    "x = torch.rand((3, 3))\n",
    "x"
   ]
  },
  {
   "cell_type": "code",
   "execution_count": 18,
   "id": "6a5720d1",
   "metadata": {},
   "outputs": [
    {
     "data": {
      "text/plain": [
       "tensor([[1., 1., 1.],\n",
       "        [1., 1., 1.],\n",
       "        [1., 1., 1.]])"
      ]
     },
     "execution_count": 18,
     "metadata": {},
     "output_type": "execute_result"
    }
   ],
   "source": [
    "x = torch.ones((3, 3))\n",
    "x"
   ]
  },
  {
   "cell_type": "code",
   "execution_count": 19,
   "id": "3f48a9b2",
   "metadata": {},
   "outputs": [
    {
     "data": {
      "text/plain": [
       "tensor([[1., 0., 0., 0., 0.],\n",
       "        [0., 1., 0., 0., 0.],\n",
       "        [0., 0., 1., 0., 0.],\n",
       "        [0., 0., 0., 1., 0.],\n",
       "        [0., 0., 0., 0., 1.]])"
      ]
     },
     "execution_count": 19,
     "metadata": {},
     "output_type": "execute_result"
    }
   ],
   "source": [
    "x = torch.eye(5, 5)  # I, eye\n",
    "x"
   ]
  },
  {
   "cell_type": "code",
   "execution_count": 20,
   "id": "da03dde9",
   "metadata": {},
   "outputs": [
    {
     "data": {
      "text/plain": [
       "tensor([0, 1, 2, 3, 4])"
      ]
     },
     "execution_count": 20,
     "metadata": {},
     "output_type": "execute_result"
    }
   ],
   "source": [
    "x = torch.arange(start=0, end=5, step=1)\n",
    "x"
   ]
  },
  {
   "cell_type": "code",
   "execution_count": 21,
   "id": "df57e79d",
   "metadata": {},
   "outputs": [
    {
     "data": {
      "text/plain": [
       "tensor([0.1000, 0.2000, 0.3000, 0.4000, 0.5000, 0.6000, 0.7000, 0.8000, 0.9000,\n",
       "        1.0000])"
      ]
     },
     "execution_count": 21,
     "metadata": {},
     "output_type": "execute_result"
    }
   ],
   "source": [
    "x = torch.linspace(start=0.1, end=1, steps=10)\n",
    "x"
   ]
  },
  {
   "cell_type": "code",
   "execution_count": 22,
   "id": "7fea0265",
   "metadata": {},
   "outputs": [
    {
     "data": {
      "text/plain": [
       "tensor([[-0.7291, -0.1367,  0.7781,  0.4833, -0.3327]])"
      ]
     },
     "execution_count": 22,
     "metadata": {},
     "output_type": "execute_result"
    }
   ],
   "source": [
    "x = torch.empty(size=(1, 5)).normal_(mean=0, std=1)\n",
    "x"
   ]
  },
  {
   "cell_type": "code",
   "execution_count": 23,
   "id": "053cd61d",
   "metadata": {},
   "outputs": [
    {
     "data": {
      "text/plain": [
       "tensor([[0.9495, 0.6348, 0.0669, 0.3223, 0.2061]])"
      ]
     },
     "execution_count": 23,
     "metadata": {},
     "output_type": "execute_result"
    }
   ],
   "source": [
    "x = torch.empty(size=(1,5)).uniform_(0, 1)\n",
    "x"
   ]
  },
  {
   "cell_type": "code",
   "execution_count": 24,
   "id": "c9330600",
   "metadata": {},
   "outputs": [
    {
     "data": {
      "text/plain": [
       "tensor([[1., 0., 0.],\n",
       "        [0., 1., 0.],\n",
       "        [0., 0., 1.]])"
      ]
     },
     "execution_count": 24,
     "metadata": {},
     "output_type": "execute_result"
    }
   ],
   "source": [
    "x = torch.diag(torch.ones(3))\n",
    "x"
   ]
  },
  {
   "cell_type": "markdown",
   "id": "a0cfea80",
   "metadata": {},
   "source": [
    "### How to initialize and convert tensors to other types (int, float, double)"
   ]
  },
  {
   "cell_type": "code",
   "execution_count": 26,
   "id": "d993bfcd",
   "metadata": {},
   "outputs": [
    {
     "name": "stdout",
     "output_type": "stream",
     "text": [
      "tensor([False,  True,  True,  True])\n"
     ]
    }
   ],
   "source": [
    "tensor = torch.arange(4)\n",
    "print (tensor.bool())"
   ]
  },
  {
   "cell_type": "code",
   "execution_count": 27,
   "id": "245ecf3c",
   "metadata": {},
   "outputs": [
    {
     "name": "stdout",
     "output_type": "stream",
     "text": [
      "tensor([0, 1, 2, 3], dtype=torch.int16)\n"
     ]
    }
   ],
   "source": [
    "print(tensor.short())"
   ]
  },
  {
   "cell_type": "code",
   "execution_count": 28,
   "id": "5fcd4d33",
   "metadata": {},
   "outputs": [
    {
     "name": "stdout",
     "output_type": "stream",
     "text": [
      "tensor([0, 1, 2, 3])\n"
     ]
    }
   ],
   "source": [
    "print (tensor.long()) #int64 (important)"
   ]
  },
  {
   "cell_type": "code",
   "execution_count": 29,
   "id": "83f7488e",
   "metadata": {},
   "outputs": [
    {
     "name": "stdout",
     "output_type": "stream",
     "text": [
      "tensor([0., 1., 2., 3.], dtype=torch.float16)\n"
     ]
    }
   ],
   "source": [
    "print(tensor.half())"
   ]
  },
  {
   "cell_type": "code",
   "execution_count": 31,
   "id": "6bded9d9",
   "metadata": {},
   "outputs": [
    {
     "name": "stdout",
     "output_type": "stream",
     "text": [
      "tensor([0., 1., 2., 3.])\n"
     ]
    }
   ],
   "source": [
    "print(tensor.float()) #floart32 (important)"
   ]
  },
  {
   "cell_type": "code",
   "execution_count": 32,
   "id": "24a1acc0",
   "metadata": {},
   "outputs": [
    {
     "name": "stdout",
     "output_type": "stream",
     "text": [
      "tensor([0., 1., 2., 3.], dtype=torch.float64)\n"
     ]
    }
   ],
   "source": [
    "print(tensor.double())"
   ]
  },
  {
   "cell_type": "markdown",
   "id": "22515511",
   "metadata": {},
   "source": [
    "### Array to tensor conversion and vice-versa"
   ]
  },
  {
   "cell_type": "code",
   "execution_count": 34,
   "id": "048d4e9f",
   "metadata": {},
   "outputs": [],
   "source": [
    "import numpy as np\n",
    "np_array = np.zeros((5,5))\n",
    "tensor = torch.from_numpy(np_array)"
   ]
  },
  {
   "cell_type": "code",
   "execution_count": 35,
   "id": "f568e210",
   "metadata": {},
   "outputs": [
    {
     "data": {
      "text/plain": [
       "tensor([[0., 0., 0., 0., 0.],\n",
       "        [0., 0., 0., 0., 0.],\n",
       "        [0., 0., 0., 0., 0.],\n",
       "        [0., 0., 0., 0., 0.],\n",
       "        [0., 0., 0., 0., 0.]], dtype=torch.float64)"
      ]
     },
     "execution_count": 35,
     "metadata": {},
     "output_type": "execute_result"
    }
   ],
   "source": [
    "tensor"
   ]
  },
  {
   "cell_type": "code",
   "execution_count": 37,
   "id": "634d7aa5",
   "metadata": {},
   "outputs": [],
   "source": [
    "np_array_back = tensor.numpy()"
   ]
  },
  {
   "cell_type": "code",
   "execution_count": 38,
   "id": "33ace62e",
   "metadata": {},
   "outputs": [
    {
     "data": {
      "text/plain": [
       "array([[0., 0., 0., 0., 0.],\n",
       "       [0., 0., 0., 0., 0.],\n",
       "       [0., 0., 0., 0., 0.],\n",
       "       [0., 0., 0., 0., 0.],\n",
       "       [0., 0., 0., 0., 0.]])"
      ]
     },
     "execution_count": 38,
     "metadata": {},
     "output_type": "execute_result"
    }
   ],
   "source": [
    "np_array_back"
   ]
  },
  {
   "cell_type": "markdown",
   "id": "6407921e",
   "metadata": {},
   "source": [
    "## Tensor Math & Comparison Operations"
   ]
  },
  {
   "cell_type": "code",
   "execution_count": 40,
   "id": "769b1be6",
   "metadata": {},
   "outputs": [],
   "source": [
    "http://localhost:8889/notebooks/PyTorch.ipynb#Tensor-Math-&-Comparison-Operationsx = torch.tensor([1,2,3])\n",
    "y = torch.tensor([9,8,7])"
   ]
  },
  {
   "cell_type": "code",
   "execution_count": 41,
   "id": "9c6a550a",
   "metadata": {},
   "outputs": [
    {
     "data": {
      "text/plain": [
       "tensor([10., 10., 10.])"
      ]
     },
     "execution_count": 41,
     "metadata": {},
     "output_type": "execute_result"
    }
   ],
   "source": [
    "# addition\n",
    "z1 = torch.empty(3)\n",
    "torch.add(x,y, out=z1)"
   ]
  },
  {
   "cell_type": "code",
   "execution_count": 42,
   "id": "23e6e7e3",
   "metadata": {},
   "outputs": [],
   "source": [
    "z2 = torch.add(x,y)\n",
    "z = x+y"
   ]
  },
  {
   "cell_type": "code",
   "execution_count": 43,
   "id": "bd9026b5",
   "metadata": {},
   "outputs": [],
   "source": [
    "# Subtraction\n",
    "z= x-y"
   ]
  },
  {
   "cell_type": "code",
   "execution_count": 44,
   "id": "df222cf6",
   "metadata": {},
   "outputs": [],
   "source": [
    "# Division\n",
    "z = torch.true_divide(x,y)"
   ]
  },
  {
   "cell_type": "code",
   "execution_count": 45,
   "id": "a8348677",
   "metadata": {},
   "outputs": [],
   "source": [
    "# inplace opeartions (contains underscore)\n",
    "t = torch.zeros(3)\n",
    "t.add_(x) \n",
    "t += x "
   ]
  },
  {
   "cell_type": "code",
   "execution_count": 46,
   "id": "246f7a9b",
   "metadata": {},
   "outputs": [],
   "source": [
    "#Exponentation\n",
    "z = x.pow(2)\n",
    "z = x**2"
   ]
  },
  {
   "cell_type": "code",
   "execution_count": 48,
   "id": "9fc79def",
   "metadata": {},
   "outputs": [],
   "source": [
    "#simple comparison\n",
    "z = x>0\n",
    "z = x<0"
   ]
  },
  {
   "cell_type": "code",
   "execution_count": 49,
   "id": "0f0e29bc",
   "metadata": {},
   "outputs": [],
   "source": [
    "# matrix multiplication\n",
    "x1 = torch.rand((2,5))\n",
    "x2 = torch.rand((5,3))\n",
    "x3 = torch.mm(x1, x2) # 2x3\n",
    "x3 = x1.mm(x2)"
   ]
  },
  {
   "cell_type": "code",
   "execution_count": 50,
   "id": "f1d74b1a",
   "metadata": {},
   "outputs": [
    {
     "name": "stdout",
     "output_type": "stream",
     "text": [
      "tensor([[6.3938, 4.6323, 4.7737, 3.7795, 3.1741],\n",
      "        [6.0301, 4.4310, 4.5517, 4.0120, 2.6986],\n",
      "        [4.4417, 3.1972, 3.3239, 3.0246, 1.9223],\n",
      "        [5.0975, 3.5713, 3.7506, 3.0767, 2.4547],\n",
      "        [3.7678, 2.7400, 2.8208, 2.4103, 1.7493]])\n"
     ]
    }
   ],
   "source": [
    "#matrix exponentiation\n",
    "matrix_exp = torch.rand(5,5)\n",
    "print(matrix_exp.matrix_power(3))"
   ]
  },
  {
   "cell_type": "code",
   "execution_count": 51,
   "id": "73975289",
   "metadata": {},
   "outputs": [
    {
     "name": "stdout",
     "output_type": "stream",
     "text": [
      "tensor([ 9, 16, 21])\n"
     ]
    }
   ],
   "source": [
    "# element wise multiplication\n",
    "z = x* y\n",
    "print(z)"
   ]
  },
  {
   "cell_type": "code",
   "execution_count": 52,
   "id": "31caadf1",
   "metadata": {},
   "outputs": [
    {
     "name": "stdout",
     "output_type": "stream",
     "text": [
      "tensor(46)\n"
     ]
    }
   ],
   "source": [
    "# dot product\n",
    "z = torch.dot(x,y)\n",
    "print(z)"
   ]
  },
  {
   "cell_type": "code",
   "execution_count": 53,
   "id": "8de3a2c4",
   "metadata": {},
   "outputs": [],
   "source": [
    "# Batch Multiplication\n",
    "batch = 32\n",
    "n = 10\n",
    "m = 20\n",
    "p = 30"
   ]
  },
  {
   "cell_type": "code",
   "execution_count": 54,
   "id": "b38afee8",
   "metadata": {},
   "outputs": [],
   "source": [
    "tensor1 = torch.rand((batch, n, m))\n",
    "tensor2 = torch.rand((batch, m, p))\n",
    "out_bmm = torch.bmm(tensor1, tensor2) # (batch, n, p)"
   ]
  },
  {
   "cell_type": "code",
   "execution_count": 55,
   "id": "caaf74b9",
   "metadata": {},
   "outputs": [
    {
     "data": {
      "text/plain": [
       "tensor([[[4.7805, 4.8837, 3.9667,  ..., 4.8019, 5.2082, 5.4534],\n",
       "         [4.4146, 4.5629, 4.6572,  ..., 3.8499, 4.4121, 4.7953],\n",
       "         [5.0889, 4.3999, 4.6981,  ..., 4.5772, 5.1741, 5.2406],\n",
       "         ...,\n",
       "         [4.0458, 3.9125, 3.8999,  ..., 4.4360, 4.8358, 4.3934],\n",
       "         [3.6940, 3.2427, 3.8396,  ..., 2.9258, 3.8155, 3.9726],\n",
       "         [4.5519, 5.3283, 4.7096,  ..., 4.4202, 4.4525, 4.5239]],\n",
       "\n",
       "        [[4.7763, 4.1991, 4.6244,  ..., 4.3381, 5.2677, 4.8971],\n",
       "         [5.6189, 5.0790, 4.9844,  ..., 4.7783, 6.2111, 6.8862],\n",
       "         [5.1686, 5.5085, 4.9107,  ..., 4.9978, 5.9862, 6.0985],\n",
       "         ...,\n",
       "         [6.0368, 5.8765, 5.4325,  ..., 4.2492, 6.9496, 6.8181],\n",
       "         [5.4493, 4.4330, 4.7909,  ..., 4.9041, 6.0983, 5.8979],\n",
       "         [5.3561, 5.5697, 5.2869,  ..., 5.6421, 6.9206, 7.0502]],\n",
       "\n",
       "        [[6.4288, 6.2928, 6.2984,  ..., 6.1511, 5.1023, 3.6493],\n",
       "         [6.2749, 4.9285, 4.8435,  ..., 5.3891, 5.3797, 3.2231],\n",
       "         [5.8847, 4.8372, 4.9931,  ..., 5.3765, 4.7601, 3.2293],\n",
       "         ...,\n",
       "         [6.5236, 5.1836, 6.2141,  ..., 5.9718, 6.3496, 3.5274],\n",
       "         [5.3935, 4.6675, 4.3690,  ..., 4.6269, 5.1962, 3.1818],\n",
       "         [5.8399, 5.4040, 5.5809,  ..., 5.4192, 4.6841, 2.6171]],\n",
       "\n",
       "        ...,\n",
       "\n",
       "        [[6.7250, 3.9154, 6.0058,  ..., 4.0936, 4.3695, 6.3053],\n",
       "         [6.0424, 4.7889, 5.5900,  ..., 5.0062, 4.8388, 6.0760],\n",
       "         [7.2930, 5.2620, 6.2186,  ..., 5.4642, 5.2037, 6.1230],\n",
       "         ...,\n",
       "         [6.4773, 4.7789, 5.9422,  ..., 4.7482, 5.0607, 6.2134],\n",
       "         [4.4027, 3.4806, 4.1048,  ..., 3.5111, 3.1721, 4.5206],\n",
       "         [6.4694, 4.5420, 5.7162,  ..., 4.7319, 4.9605, 4.4346]],\n",
       "\n",
       "        [[5.2812, 5.6008, 6.6584,  ..., 5.6741, 5.3547, 3.3965],\n",
       "         [4.9388, 5.1937, 6.4909,  ..., 5.8941, 4.4540, 3.2085],\n",
       "         [4.8175, 5.7492, 6.7811,  ..., 5.4892, 4.6824, 3.6068],\n",
       "         ...,\n",
       "         [6.0497, 5.8411, 7.9103,  ..., 6.9817, 5.9511, 4.3205],\n",
       "         [4.4245, 4.6821, 5.8644,  ..., 4.6038, 3.2168, 2.5031],\n",
       "         [4.9020, 4.4860, 5.7703,  ..., 5.0351, 4.5752, 2.7654]],\n",
       "\n",
       "        [[5.0175, 3.8111, 4.8329,  ..., 5.1628, 4.6262, 4.3637],\n",
       "         [5.9718, 4.4555, 6.4331,  ..., 6.9108, 5.7644, 5.8409],\n",
       "         [5.6432, 4.4939, 6.0740,  ..., 6.8016, 5.6033, 6.5039],\n",
       "         ...,\n",
       "         [5.3735, 4.0976, 5.5799,  ..., 4.9451, 4.1179, 4.8708],\n",
       "         [4.1834, 3.4455, 5.1414,  ..., 4.4758, 4.8441, 4.6119],\n",
       "         [4.5926, 4.7536, 4.7559,  ..., 5.7252, 5.4062, 4.9574]]])"
      ]
     },
     "execution_count": 55,
     "metadata": {},
     "output_type": "execute_result"
    }
   ],
   "source": [
    "out_bmm"
   ]
  },
  {
   "cell_type": "code",
   "execution_count": 56,
   "id": "6e3e1cbf",
   "metadata": {},
   "outputs": [],
   "source": [
    "# Example of broadcasting \n",
    "x1 = torch.rand((5,5))\n",
    "x2 = torch.rand((1,5))\n",
    "z = x1 - x2"
   ]
  },
  {
   "cell_type": "code",
   "execution_count": 58,
   "id": "5d38d32a",
   "metadata": {},
   "outputs": [
    {
     "name": "stdout",
     "output_type": "stream",
     "text": [
      "tensor([False, False, False])\n"
     ]
    }
   ],
   "source": [
    "# Other useful tensor operation\n",
    "sum_x = torch.sum(x, dim=0)\n",
    "values, indices = torch.max(x, dim=0)\n",
    "values, indices = torch.min(x, dim=0)\n",
    "abs_x = torch.abs(x)\n",
    "z = torch.argmax(x, dim=0)\n",
    "z = torch.argmin(x, dim=0)\n",
    "mean_x = torch.mean(x.float(), dim=0)\n",
    "z = torch.eq(x,y)\n",
    "print(z)"
   ]
  },
  {
   "cell_type": "code",
   "execution_count": 59,
   "id": "24dcc1bd",
   "metadata": {},
   "outputs": [],
   "source": [
    "sorted_y, indices = torch.sort(y, dim=0, descending=False)"
   ]
  },
  {
   "cell_type": "code",
   "execution_count": 60,
   "id": "6474cca8",
   "metadata": {},
   "outputs": [],
   "source": [
    "z = torch.clamp(x, min=0)"
   ]
  },
  {
   "cell_type": "markdown",
   "id": "df2e9a53",
   "metadata": {},
   "source": [
    "## Tensor Indexing"
   ]
  },
  {
   "cell_type": "code",
   "execution_count": 61,
   "id": "0680b864",
   "metadata": {},
   "outputs": [],
   "source": [
    "batch_size = 10\n",
    "features = 25\n",
    "x = torch.rand((batch_size, features))"
   ]
  },
  {
   "cell_type": "code",
   "execution_count": 62,
   "id": "8af02317",
   "metadata": {},
   "outputs": [
    {
     "name": "stdout",
     "output_type": "stream",
     "text": [
      "torch.Size([25])\n"
     ]
    }
   ],
   "source": [
    "print(x[0].shape) # x[0,:]"
   ]
  },
  {
   "cell_type": "code",
   "execution_count": 63,
   "id": "ba53b44b",
   "metadata": {},
   "outputs": [
    {
     "name": "stdout",
     "output_type": "stream",
     "text": [
      "torch.Size([10])\n"
     ]
    }
   ],
   "source": [
    "print(x[:, 0].shape)"
   ]
  },
  {
   "cell_type": "code",
   "execution_count": 64,
   "id": "9025d783",
   "metadata": {},
   "outputs": [
    {
     "name": "stdout",
     "output_type": "stream",
     "text": [
      "tensor([0.7874, 0.6456, 0.0322, 0.7229, 0.8907, 0.2296, 0.9385, 0.9899, 0.0313,\n",
      "        0.6049])\n"
     ]
    }
   ],
   "source": [
    "print(x[2, 0:10]) # 0:10 -> [0,1,2, ... 9]\n",
    "x[0,0] = 100"
   ]
  },
  {
   "cell_type": "code",
   "execution_count": 65,
   "id": "e26f1220",
   "metadata": {},
   "outputs": [
    {
     "name": "stdout",
     "output_type": "stream",
     "text": [
      "tensor([2, 5, 8])\n"
     ]
    }
   ],
   "source": [
    "# Fancy Indexing\n",
    "x= torch.arange(10)\n",
    "indices = [2, 5, 8]\n",
    "print(x[indices])"
   ]
  },
  {
   "cell_type": "code",
   "execution_count": 66,
   "id": "25212565",
   "metadata": {},
   "outputs": [
    {
     "name": "stdout",
     "output_type": "stream",
     "text": [
      "torch.Size([2])\n"
     ]
    }
   ],
   "source": [
    "x= torch.rand((3,5))\n",
    "rows = torch.tensor([1,0])\n",
    "cols = torch.tensor([4,0])\n",
    "print(x[rows, cols].shape)"
   ]
  },
  {
   "cell_type": "code",
   "execution_count": 68,
   "id": "bab68586",
   "metadata": {},
   "outputs": [
    {
     "name": "stdout",
     "output_type": "stream",
     "text": [
      "tensor([0, 1, 9])\n"
     ]
    }
   ],
   "source": [
    "#More advanced indexing\n",
    "x = torch.arange(10)\n",
    "print(x[(x<2) | (x>8)])"
   ]
  },
  {
   "cell_type": "code",
   "execution_count": 72,
   "id": "4aa4b3a9",
   "metadata": {},
   "outputs": [
    {
     "name": "stdout",
     "output_type": "stream",
     "text": [
      "[tensor([ True, False,  True, False,  True, False,  True, False,  True, False])]\n"
     ]
    }
   ],
   "source": [
    "print([x.remainder(2) ==0])"
   ]
  },
  {
   "cell_type": "code",
   "execution_count": 73,
   "id": "b59ff26e",
   "metadata": {},
   "outputs": [
    {
     "name": "stdout",
     "output_type": "stream",
     "text": [
      "tensor([ 0,  2,  4,  6,  8, 10,  6,  7,  8,  9])\n"
     ]
    }
   ],
   "source": [
    "# useful operations\n",
    "print(torch.where(x>5, x, x*2))"
   ]
  },
  {
   "cell_type": "code",
   "execution_count": 74,
   "id": "66ea4971",
   "metadata": {},
   "outputs": [
    {
     "name": "stdout",
     "output_type": "stream",
     "text": [
      "1\n"
     ]
    }
   ],
   "source": [
    "print(x.ndimension())"
   ]
  },
  {
   "cell_type": "code",
   "execution_count": 77,
   "id": "46e28c4f",
   "metadata": {},
   "outputs": [
    {
     "name": "stdout",
     "output_type": "stream",
     "text": [
      "10\n"
     ]
    }
   ],
   "source": [
    "print(x.numel())"
   ]
  },
  {
   "cell_type": "markdown",
   "id": "957b8313",
   "metadata": {},
   "source": [
    "### Tensor Reshaping"
   ]
  },
  {
   "cell_type": "code",
   "execution_count": 78,
   "id": "9f1f3848",
   "metadata": {},
   "outputs": [
    {
     "name": "stdout",
     "output_type": "stream",
     "text": [
      "tensor([[0, 1, 2],\n",
      "        [3, 4, 5],\n",
      "        [6, 7, 8]])\n"
     ]
    }
   ],
   "source": [
    "x = torch.arange(9)\n",
    "x_3x3 = x.view(3, 3)\n",
    "print(x_3x3)\n",
    "\n",
    "x_3x3 = x.reshape(3, 3)"
   ]
  },
  {
   "cell_type": "code",
   "execution_count": 79,
   "id": "5d44d8d2",
   "metadata": {},
   "outputs": [
    {
     "name": "stdout",
     "output_type": "stream",
     "text": [
      "tensor([[0, 3, 6],\n",
      "        [1, 4, 7],\n",
      "        [2, 5, 8]])\n"
     ]
    }
   ],
   "source": [
    "y = x_3x3.t()  # Transpose the matrix\n",
    "print(y)"
   ]
  },
  {
   "cell_type": "code",
   "execution_count": 81,
   "id": "59a8b906",
   "metadata": {},
   "outputs": [
    {
     "name": "stdout",
     "output_type": "stream",
     "text": [
      "torch.Size([4, 5])\n",
      "torch.Size([2, 10])\n"
     ]
    }
   ],
   "source": [
    "x1 = torch.rand((2, 5))\n",
    "x2 = torch.rand((2, 5))\n",
    "\n",
    "print(torch.cat((x1, x2), dim=0).shape)\n",
    "print(torch.cat((x1, x2), dim=1).shape)\n"
   ]
  },
  {
   "cell_type": "code",
   "execution_count": 82,
   "id": "96de4bd4",
   "metadata": {},
   "outputs": [
    {
     "name": "stdout",
     "output_type": "stream",
     "text": [
      "torch.Size([10])\n",
      "torch.Size([64, 10])\n"
     ]
    }
   ],
   "source": [
    "z = x1.view(-1)\n",
    "print(z.shape)\n",
    "\n",
    "batch = 64\n",
    "x = torch.rand((batch, 2, 5))\n",
    "z = x.view(batch, -1)\n",
    "print(z.shape)\n"
   ]
  },
  {
   "cell_type": "code",
   "execution_count": 83,
   "id": "5efe47bd",
   "metadata": {},
   "outputs": [
    {
     "name": "stdout",
     "output_type": "stream",
     "text": [
      "torch.Size([1, 10])\n",
      "torch.Size([10, 1])\n"
     ]
    }
   ],
   "source": [
    "x = torch.arange(10)  # [10]\n",
    "print(x.unsqueeze(0).shape)\n",
    "print(x.unsqueeze(1).shape)\n",
    "\n"
   ]
  },
  {
   "cell_type": "code",
   "execution_count": 84,
   "id": "c7a8d350",
   "metadata": {},
   "outputs": [
    {
     "name": "stdout",
     "output_type": "stream",
     "text": [
      "torch.Size([1, 10])\n"
     ]
    }
   ],
   "source": [
    "x = torch.arange(10).unsqueeze(0).unsqueeze(1)  # 1x1x10\n",
    "\n",
    "z = x.squeeze(1)\n",
    "print(z.shape)\n"
   ]
  },
  {
   "cell_type": "code",
   "execution_count": null,
   "id": "ba5a6de0",
   "metadata": {},
   "outputs": [],
   "source": []
  }
 ],
 "metadata": {
  "kernelspec": {
   "display_name": "Python 3",
   "language": "python",
   "name": "python3"
  },
  "language_info": {
   "codemirror_mode": {
    "name": "ipython",
    "version": 3
   },
   "file_extension": ".py",
   "mimetype": "text/x-python",
   "name": "python",
   "nbconvert_exporter": "python",
   "pygments_lexer": "ipython3",
   "version": "3.10.9"
  }
 },
 "nbformat": 4,
 "nbformat_minor": 5
}
